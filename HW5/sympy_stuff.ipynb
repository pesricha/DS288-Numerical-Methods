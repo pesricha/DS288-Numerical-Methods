{
 "cells": [
  {
   "cell_type": "markdown",
   "metadata": {},
   "source": [
    "# Q1"
   ]
  },
  {
   "cell_type": "code",
   "execution_count": 115,
   "metadata": {},
   "outputs": [
    {
     "data": {
      "text/plain": [
       "'\\\\left[\\\\begin{matrix}\\\\frac{2 h^{2} + 3 h x_{0} + x_{0}^{2}}{2 h^{2} x_{0}} & \\\\frac{- 3 h - 2 x_{0}}{2 h^{2} x_{0}} & \\\\frac{1}{2 h^{2} x_{0}}\\\\\\\\\\\\frac{- 2 h x_{0} - x_{0}^{2}}{h^{3} + h^{2} x_{0}} & \\\\frac{2}{h^{2}} & - \\\\frac{1}{h^{3} + h^{2} x_{0}}\\\\\\\\\\\\frac{h x_{0} + x_{0}^{2}}{4 h^{3} + 2 h^{2} x_{0}} & \\\\frac{- h - 2 x_{0}}{4 h^{3} + 2 h^{2} x_{0}} & \\\\frac{1}{4 h^{3} + 2 h^{2} x_{0}}\\\\end{matrix}\\\\right]'"
      ]
     },
     "execution_count": 115,
     "metadata": {},
     "output_type": "execute_result"
    }
   ],
   "source": [
    "import sympy as sp\n",
    "\n",
    "x0, h = sp.symbols('x0 h')\n",
    "\n",
    "V = sp.Matrix([\n",
    "    # [1, 1, 1],\n",
    "    [x0, x0+h, (x0+2*h)],\n",
    "    [x0**2, (x0+h)**2, (x0+2*h)**2],\n",
    "    [x0**3, (x0+h)**3, (x0+2*h)**3]\n",
    "])\n",
    "sp.latex(V.inv())"
   ]
  },
  {
   "cell_type": "code",
   "execution_count": 116,
   "metadata": {},
   "outputs": [
    {
     "data": {
      "text/plain": [
       "'\\\\left[\\\\begin{matrix}- \\\\frac{x_{0}^{2}}{2} + \\\\frac{\\\\left(2 h + x_{0}\\\\right)^{2}}{2}\\\\\\\\- \\\\frac{x_{0}^{3}}{3} + \\\\frac{\\\\left(2 h + x_{0}\\\\right)^{3}}{3}\\\\\\\\- \\\\frac{x_{0}^{4}}{4} + \\\\frac{\\\\left(2 h + x_{0}\\\\right)^{4}}{4}\\\\end{matrix}\\\\right]'"
      ]
     },
     "execution_count": 116,
     "metadata": {},
     "output_type": "execute_result"
    }
   ],
   "source": [
    "b = sp.Matrix([\n",
    "    # [(x0+2*h) - x0],\n",
    "    [((x0+2*h)**2 -x0**2)/2],\n",
    "    [((x0+2*h)**3 -x0**3)/3],\n",
    "    [((x0+2*h)**4 -x0**4)/4]\n",
    "])\n",
    "sp.latex(b)"
   ]
  },
  {
   "cell_type": "code",
   "execution_count": 118,
   "metadata": {},
   "outputs": [
    {
     "data": {
      "text/plain": [
       "'\\\\left[\\\\begin{matrix}\\\\frac{h}{3}\\\\\\\\\\\\frac{4 h}{3}\\\\\\\\\\\\frac{h}{3}\\\\end{matrix}\\\\right]'"
      ]
     },
     "execution_count": 118,
     "metadata": {},
     "output_type": "execute_result"
    }
   ],
   "source": [
    "# Solve the system V * x = b\n",
    "solution_vector = V.LUsolve(b)\n",
    "solution_vector.simplify()\n",
    "sp.latex(solution_vector)"
   ]
  },
  {
   "cell_type": "code",
   "execution_count": null,
   "metadata": {},
   "outputs": [
    {
     "name": "stdout",
     "output_type": "stream",
     "text": [
      "a0: h/3\n",
      "a1: 4*h/3\n",
      "a2: h/3\n",
      "Eq(-h*x0**4/3 - 4*h*(h + x0)**4/3 - h*(2*h + x0)**4/3 - x0**5/5 + (2*h + x0)**5/5, 24*k)\n",
      "Eq(-h*x0**4/3 - 4*h*(h + x0)**4/3 - h*(2*h + x0)**4/3 - x0**5/5 + (2*h + x0)**5/5, 24*k)\n",
      "Error term: -h*x0**4/3 - 4*h*(h + x0)**4/3 - h*(2*h + x0)**4/3 - x0**5/5 + (2*h + x0)**5/5\n",
      "\n",
      "-h*x0**4/3 - 4*h*(h + x0)**4/3 - h*(2*h + x0)**4/3 - x0**5/5 + (2*h + x0)**5/5\n"
     ]
    },
    {
     "data": {
      "text/plain": [
       "'- \\\\frac{h x_{0}^{4}}{3} - \\\\frac{4 h \\\\left(h + x_{0}\\\\right)^{4}}{3} - \\\\frac{h \\\\left(2 h + x_{0}\\\\right)^{4}}{3} - \\\\frac{x_{0}^{5}}{5} + \\\\frac{\\\\left(2 h + x_{0}\\\\right)^{5}}{5} = 24 k'"
      ]
     },
     "execution_count": 6,
     "metadata": {},
     "output_type": "execute_result"
    }
   ],
   "source": [
    "\n",
    "# Define the symbols\n",
    "x0, h, a0, a1, a2, k = sp.symbols('x0 h a0 a1 a2 k')\n",
    "x1 = x0 + h\n",
    "x2 = x0 + 2*h\n",
    "\n",
    "# Define the equations for f(x) = 1, x, x^2, x^3\n",
    "eq1 = sp.Eq(a0 + a1 + a2, x2 - x0)\n",
    "eq2 = sp.Eq(a0 * x0 + a1 * x1 + a2 * x2, (x2**2 - x0**2) / 2)\n",
    "eq3 = sp.Eq(a0 * x0**2 + a1 * x1**2 + a2 * x2**2, (x2**3 - x0**3) / 3)\n",
    "eq4 = sp.Eq(a0 * x0**3 + a1 * x1**3 + a2 * x2**3, (x2**4 - x0**4) / 4)\n",
    "\n",
    "# Solve the system of equations\n",
    "solution = sp.solve((eq1, eq2, eq3, eq4), (a0, a1, a2))\n",
    "\n",
    "# Display the solution\n",
    "a0_sol = solution[a0]\n",
    "a1_sol = solution[a1]\n",
    "a2_sol = solution[a2]\n",
    "\n",
    "print(f\"a0: {a0_sol}\")\n",
    "print(f\"a1: {a1_sol}\")\n",
    "print(f\"a2: {a2_sol}\")\n",
    "\n",
    "# Define the error term for f(x) = x^4\n",
    "x = sp.symbols('x')\n",
    "f = x**4\n",
    "error_term = sp.integrate(f, (x, x0, x2)) - (a0_sol * f.subs(x, x0) + a1_sol * f.subs(x, x1) + a2_sol * f.subs(x, x2))\n",
    "error_term_eq = sp.Eq(error_term, 24*k)\n",
    "\n",
    "print(error_term_eq)\n",
    "error_term_eq.simplify()\n",
    "\n",
    "print(error_term_eq)\n",
    "print(f\"Error term: {error_term}\")\n",
    "error_term.simplify()\n",
    "print()\n",
    "print(error_term)\n",
    "\n",
    "sp.latex(error_term_eq)"
   ]
  },
  {
   "cell_type": "code",
   "execution_count": 16,
   "metadata": {},
   "outputs": [
    {
     "data": {
      "text/plain": [
       "'- \\\\frac{16 h^{5}}{3} - \\\\frac{32 h^{4} x_{0}}{3} - 8 h^{3} x_{0}^{2} - \\\\frac{8 h^{2} x_{0}^{3}}{3} - \\\\frac{h x_{0}^{4}}{3}'"
      ]
     },
     "execution_count": 16,
     "metadata": {},
     "output_type": "execute_result"
    }
   ],
   "source": [
    "q = - h/3*((x0+2*h)**4)\n",
    "q = sp.expand(q)\n",
    "sp.latex(q)"
   ]
  },
  {
   "cell_type": "code",
   "execution_count": null,
   "metadata": {},
   "outputs": [],
   "source": []
  }
 ],
 "metadata": {
  "kernelspec": {
   "display_name": "Python 3",
   "language": "python",
   "name": "python3"
  },
  "language_info": {
   "codemirror_mode": {
    "name": "ipython",
    "version": 3
   },
   "file_extension": ".py",
   "mimetype": "text/x-python",
   "name": "python",
   "nbconvert_exporter": "python",
   "pygments_lexer": "ipython3",
   "version": "3.10.12"
  }
 },
 "nbformat": 4,
 "nbformat_minor": 2
}
