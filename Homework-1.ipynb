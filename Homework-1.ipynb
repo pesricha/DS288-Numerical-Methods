{
 "cells": [
  {
   "cell_type": "markdown",
   "metadata": {},
   "source": [
    "# DS288-2024 Numerical Methods \n",
    "## Homework-1\n",
    "\n",
    "Naman Pesricha Mtech CDS 06-18-01-10-51-24-1-24115\n",
    "\n",
    "-------------------"
   ]
  },
  {
   "cell_type": "markdown",
   "metadata": {},
   "source": [
    "For ease of indexing, I will right J_n(x) as J_x[n].     \n",
    "Creating list J_1 with all values set to 0 and then initializing J_1[0] and J_1[1]"
   ]
  },
  {
   "cell_type": "markdown",
   "metadata": {
    "vscode": {
     "languageId": "plaintext"
    }
   },
   "source": [
    "### Q1"
   ]
  },
  {
   "cell_type": "code",
   "execution_count": 39,
   "metadata": {},
   "outputs": [
    {
     "name": "stdout",
     "output_type": "stream",
     "text": [
      "Computed Values of J_x[10] for Q1\n",
      "J_1[10]  : 560.5533099964255\n",
      "J_5[10]  : 0.0015852559616038944\n",
      "J_50[10] : -0.11384696301170265\n",
      "\n",
      "Absolute Errors for Q1:\n",
      "abs_J_1_10 : 560.5533099961624\n",
      "abs_J_5_10 : 0.00011745331430389433\n",
      "abs_J_50_10 : 8.86138297351291e-07\n",
      "\n",
      "Relative Errors for Q1:\n",
      "rel_J_1_10 : 2130883020271.455\n",
      "rel_J_5_10 : 0.08001982727034036\n",
      "rel_J_50_10 : -7.783531300479479e-06\n"
     ]
    }
   ],
   "source": [
    "J_1_10_truth = 2.6306151237e-10\n",
    "J_5_10_truth =  1.4678026473e-03\n",
    "J_50_10_truth = -1.1384784915e-01\n",
    "\n",
    "J_1 = [0]*11\n",
    "J_1[0] = 7.6519e-01\n",
    "J_1[1] = 4.4005e-01\n",
    "\n",
    "J_5 = [0]*11\n",
    "J_5[0] = -1.7759e-01\n",
    "J_5[1] = -3.2757e-01\n",
    "\n",
    "J_50 = [0]*11\n",
    "J_50[0] = 5.5812e-02\n",
    "J_50[1] = -9.7511e-02\n",
    "\n",
    "# Iterating over a for loop from i = 2 to 10 (inclusive) to compute the subsequent values using the iterative scheme  \n",
    "# J_x[n] = J_x[n-1]* 2*(n-1)/x - J_x[n-2] (Rearranging the scheme and then replacing n+1 with n)\n",
    "\n",
    "for i in range(2,11):\n",
    "    J_1[i] = J_1[i-1]*2*(i-1)/1 - J_1[i-2]\n",
    "    J_5[i] = J_5[i-1]*2*(i-1)/5 - J_5[i-2]\n",
    "    J_50[i] = J_50[i-1]*2*(i-1)/50 - J_50[i-2]\n",
    "\n",
    "# Computing absolute values\n",
    "abs_J_1_10 = abs(J_1_10_truth - J_1[10])\n",
    "abs_J_5_10 = abs(J_5_10_truth - J_5[10])\n",
    "abs_J_50_10 = abs(J_50_10_truth - J_50[10])\n",
    "\n",
    "# Computing relative values\n",
    "\n",
    "rel_J_1_10 = abs_J_1_10/J_1_10_truth\n",
    "rel_J_5_10 = abs_J_5_10/J_5_10_truth\n",
    "rel_J_50_10 = abs_J_50_10/J_50_10_truth\n",
    "\n",
    "print(\"Computed Values of J_x[10] for Q1\")\n",
    "print(f\"J_1[10]  : {J_1[10]}\")\n",
    "print(f\"J_5[10]  : {J_5[10]}\")\n",
    "print(f\"J_50[10] : {J_50[10]}\")\n",
    "\n",
    "print(\"\\nAbsolute Errors for Q1:\")\n",
    "print(f\"abs_J_1_10 : {abs_J_1_10}\")\n",
    "print(f\"abs_J_5_10 : {abs_J_5_10}\")\n",
    "print(f\"abs_J_50_10 : {abs_J_50_10}\")\n",
    "\n",
    "print(\"\\nRelative Errors for Q1:\")\n",
    "print(f\"rel_J_1_10 : {rel_J_1_10}\")\n",
    "print(f\"rel_J_5_10 : {rel_J_5_10}\")\n",
    "print(f\"rel_J_50_10 : {rel_J_50_10}\")\n"
   ]
  },
  {
   "cell_type": "code",
   "execution_count": null,
   "metadata": {},
   "outputs": [],
   "source": []
  }
 ],
 "metadata": {
  "kernelspec": {
   "display_name": "Python 3",
   "language": "python",
   "name": "python3"
  },
  "language_info": {
   "codemirror_mode": {
    "name": "ipython",
    "version": 3
   },
   "file_extension": ".py",
   "mimetype": "text/x-python",
   "name": "python",
   "nbconvert_exporter": "python",
   "pygments_lexer": "ipython3",
   "version": "3.10.12"
  }
 },
 "nbformat": 4,
 "nbformat_minor": 2
}
